{
 "cells": [
  {
   "cell_type": "code",
   "execution_count": 475,
   "metadata": {},
   "outputs": [
    {
     "data": {
      "text/plain": [
       "<module 'matplotlib.pyplot' from 'C:\\\\Users\\\\llim8\\\\anaconda3\\\\lib\\\\site-packages\\\\matplotlib\\\\pyplot.py'>"
      ]
     },
     "execution_count": 475,
     "metadata": {},
     "output_type": "execute_result"
    },
    {
     "data": {
      "image/png": "[encoded data removed]",
      "text/plain": [
       "<Figure size 432x288 with 1 Axes>"
      ]
     },
     "metadata": {
      "needs_background": "light"
     },
     "output_type": "display_data"
    }
   ],
   "source": [
    "import random\n",
    "import numpy as np\n",
    "import math\n",
    "\n",
    "num_city = 100\n",
    "num_air = 3\n",
    "num_center = 5\n",
    "sigma = 0.1\n",
    "cities = set()\n",
    "airports = []\n",
    "\n",
    "for i in range(num_center):\n",
    "    x = random.random()\n",
    "    y = random.random()\n",
    "    xc = np.random.normal(x, sigma, num_city//num_center)\n",
    "    yc = np.random.normal(y, sigma, num_city//num_center)\n",
    "    cities = cities.union(zip(xc, yc))\n",
    "\n",
    "\n",
    "for i in range(num_air):\n",
    "    x = random.random()\n",
    "    y = random.random()\n",
    "    airports.append((x,y)) \n",
    "\n",
    "import matplotlib.pyplot as plt\n",
    "\n",
    "zip_cities = zip(*cities)\n",
    "plt.scatter(*zip_cities, marker='+',color='b', label='Cities')\n",
    "zip_airs = zip(*airports)\n",
    "plt.scatter(*zip_airs, marker='*', color='r', s=100, label='Airports')\n",
    "plt.legend()\n",
    "plt\n"
   ]
  },
  {
   "cell_type": "code",
   "execution_count": 476,
   "metadata": {},
   "outputs": [
    {
     "name": "stderr",
     "output_type": "stream",
     "text": [
      "No handles with labels found to put in legend.\n"
     ]
    },
    {
     "data": {
      "text/plain": [
       "<module 'matplotlib.pyplot' from 'C:\\\\Users\\\\llim8\\\\anaconda3\\\\lib\\\\site-packages\\\\matplotlib\\\\pyplot.py'>"
      ]
     },
     "execution_count": 476,
     "metadata": {},
     "output_type": "execute_result"
    },
    {
     "data": {
      "image/png": "[encoded data removed]",
      "text/plain": [
       "<Figure size 432x288 with 1 Axes>"
      ]
     },
     "metadata": {
      "needs_background": "light"
     },
     "output_type": "display_data"
    }
   ],
   "source": [
    "#set alpha this small so that we don't get overflows or over estimation for gradient\n",
    "alpha = .006\n",
    "cityList = list(cities)#convert the city to a list to iterate easier and to grab the values properly\n",
    "\n",
    "#ClosestAirport function allows for us to allocate cities to each airport based on shortest distance\n",
    "def closestAirport(airports):\n",
    "    close = [[] for x in range(num_air)]#returning a nested list of city locations for each airport\n",
    "    for city in cityList:\n",
    "        tempDistance = []#each iteration will need a temp distance to see which one has the best distance\n",
    "        for airs in airports:\n",
    "            distance = math.sqrt((city[0]-airs[0])**2+(city[1]-airs[1])**2)#distance formula to calculate from city to airport\n",
    "            tempDistance.append(distance)\n",
    "        close[tempDistance.index(min(tempDistance))].append(city)#this will give us the shortest distanced city dependent on index for each airport\n",
    "    for zeroes in close:#this is here to catch any airport that doesn't have a dedicated city\n",
    "        if len(zeroes) <= 5:#if the list is too small, we can add another list to it\n",
    "            for i in range(5):\n",
    "                maxLength = []#gets the lengths of all airport's cities\n",
    "                for lengths in close:\n",
    "                    maxLength.append(len(lengths))\n",
    "                maxNum = maxLength.index(max(maxLength))#we get the index of the airport with the most cities\n",
    "                zeroes.append(max(close[maxNum]))#we get the furthest distance of that airport with the most cities and add it to the city of our choice\n",
    "                close[maxNum].remove((max(close[maxNum])))#we remove that city from that airport\n",
    "    return close\n",
    "\n",
    "#GradientCalculator is here to simply measure the direction/magnitude for each airport across their cities\n",
    "def gradientCalculation(port,citySet):\n",
    "    accumulativeX = 0\n",
    "    accumulativeY = 0\n",
    "    for city in citySet:#sum of the X and Y magnitude/direction based on derivation\n",
    "        accumulativeX += port[0]-city[0]\n",
    "        accumulativeY += port[1]-city[1]\n",
    "    return [accumulativeX*2*alpha,accumulativeY*2*alpha]#we are multiplying by 2 due to derivation, and by alpha to find optimal airports\n",
    "\n",
    "#ObjectiveFunction merely calculates and obtains the total distance between airports and their respective cities\n",
    "def objectiveFunction(close,airports):\n",
    "    accumulativeSum = 0\n",
    "    for index, port in enumerate(airports):\n",
    "        for city in close[index]:\n",
    "            accumulativeSum+= ((port[0]-city[0])**2+(port[1]-city[1])**2)#this acculumales the objective function formula\n",
    "    return accumulativeSum\n",
    "\n",
    "#need a new airport list since we can't change tuples in airports\n",
    "newAirports = []\n",
    "for i in airports:\n",
    "    newAirports.append([i[0],i[1]])#x and y coords\n",
    "gradientDistance=[]#we need this to keep track of our gradient progress\n",
    "for i in range(25):\n",
    "    closestCities = closestAirport(newAirports)#gathers the clusters belonging to each airport\n",
    "    #print(len(closestCities[0]),len(closestCities[1]),len(closestCities[2]))\n",
    "    gradientDistance.append(objectiveFunction(closestCities,newAirports))#keepts track of gradient distance\n",
    "\n",
    "    delta = []#delta is here to obtain all the gradient calculations of derivation to subtract from currentAirport locations\n",
    "    for index,port in enumerate(newAirports):\n",
    "        delta.append(gradientCalculation(port,closestCities[index]))\n",
    "\n",
    "    tempAirports = []#temp airports is the way to calculate the new locations of airports without overwriting newAirports in the process\n",
    "    for index,port in enumerate(newAirports):\n",
    "        tempAirports.append([port[0] - delta[index][0],port[1] - delta[index][1]])#simple x1 - deltax1 and so forth\n",
    "    newAirports=tempAirports\n",
    "\n",
    "#we have this line because we need to capture the last gradient distance calculated once the loop ends\n",
    "gradientDistance.append(objectiveFunction(closestCities,newAirports))\n",
    "gradientLine = []\n",
    "for index,gradient in enumerate(gradientDistance):#convert to nested list to zip into scatter plot\n",
    "    gradientLine.append([index,gradient])\n",
    "\n",
    "zip_airs = zip(*gradientLine)\n",
    "plt.scatter(*zip_airs, color='g', s=50)\n",
    "plt.legend()\n",
    "plt\n",
    "\n"
   ]
  },
  {
   "cell_type": "code",
   "execution_count": 477,
   "metadata": {},
   "outputs": [
    {
     "data": {
      "text/plain": [
       "<module 'matplotlib.pyplot' from 'C:\\\\Users\\\\llim8\\\\anaconda3\\\\lib\\\\site-packages\\\\matplotlib\\\\pyplot.py'>"
      ]
     },
     "execution_count": 477,
     "metadata": {},
     "output_type": "execute_result"
    },
    {
     "data": {
      "image/png": "[encoded data removed]",
      "text/plain": [
       "<Figure size 432x288 with 1 Axes>"
      ]
     },
     "metadata": {
      "needs_background": "light"
     },
     "output_type": "display_data"
    }
   ],
   "source": [
    "zip_cities = zip(*cities)\n",
    "plt.scatter(*zip_cities, marker='+',color='b', label='Cities')\n",
    "zip_airs = zip(*newAirports)\n",
    "plt.scatter(*zip_airs, marker='*', color='g', s=100, label='New Airports')\n",
    "plt.legend()\n",
    "plt"
   ]
  }
 ],
 "metadata": {
  "kernelspec": {
   "display_name": "Python 3",
   "language": "python",
   "name": "python3"
  },
  "language_info": {
   "codemirror_mode": {
    "name": "ipython",
    "version": 3
   },
   "file_extension": ".py",
   "mimetype": "text/x-python",
   "name": "python",
   "nbconvert_exporter": "python",
   "pygments_lexer": "ipython3",
   "version": "3.8.3"
  }
 },
 "nbformat": 4,
 "nbformat_minor": 2
}
