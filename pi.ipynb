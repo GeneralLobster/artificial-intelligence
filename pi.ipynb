{
 "cells": [
  {
   "cell_type": "code",
   "execution_count": 3,
   "metadata": {},
   "outputs": [
    {
     "name": "stdout",
     "output_type": "stream",
     "text": [
      "n = 10 ^ 3  pi = 3.088000   error = 1.7059%\n",
      "n = 10 ^ 4  pi = 3.116800   error = 0.7892%\n",
      "n = 10 ^ 5  pi = 3.147520   error = 0.1887%\n",
      "n = 10 ^ 6  pi = 3.142004   error = 0.0131%\n"
     ]
    },
    {
     "data": {
      "image/png": "[encoded data removed]",
      "text/plain": [
       "<Figure size 432x288 with 1 Axes>"
      ]
     },
     "metadata": {
      "needs_background": "light"
     },
     "output_type": "display_data"
    }
   ],
   "source": [
    "import random\n",
    "import math\n",
    "import matplotlib.pyplot as plt\n",
    "\n",
    "#Real pi\n",
    "pi = math.pi\n",
    "\n",
    "#This gets us our random point and the distance from 0,0\n",
    "def insideCircle():\n",
    "    x = random.random()\n",
    "    y = random.random()\n",
    "    distance = math.sqrt(x**2+y**2)\n",
    "    return [distance,(x,y)]\n",
    "\n",
    "#Gets us our error formula from assignment\n",
    "def errorFormula(myPi):\n",
    "    return abs((pi-myPi)/pi)*100\n",
    "\n",
    "#Gets us the pi calculation from the simulation\n",
    "def generatePi(inside,count):\n",
    "    return 4* (inside/count)\n",
    "\n",
    "#Simulation will allow us to simulate random points for count times\n",
    "def simulation(blue,red,count):\n",
    "    insides = 0#gets the count of all blue points; yes, I know insides can be replaced with len(blue), but i'm too lazy to change it, and would rather write a whole sentence explaining it\n",
    "    for i in range(count):\n",
    "        result = insideCircle()\n",
    "        if(result[0]<1):#if it is within the circle, we can add it to the blue list and add for insides\n",
    "            blue.append(result[1])\n",
    "            insides+=1\n",
    "        else:#if its not in the circle, we can just add it to the red list\n",
    "            red.append(result[1])\n",
    "    return insides\n",
    "\n",
    "#Hard coding the lists at it's finest\n",
    "n3Blue = []\n",
    "n3Red = []\n",
    "insides = simulation(n3Blue,n3Red,10**3)\n",
    "n3Pi = generatePi(insides,10**3)\n",
    "\n",
    "#Ditto\n",
    "n4Blue = []\n",
    "n4Red = []\n",
    "insides = simulation(n4Blue,n4Red,10**4)\n",
    "n4Pi=generatePi(insides,10**4)\n",
    "\n",
    "#Maybe not a Ditto, but a Ditto?\n",
    "n5Blue = []\n",
    "n5Red = []\n",
    "insides = 0\n",
    "insides= simulation(n5Blue,n5Red,10**5)\n",
    "n5Pi=generatePi(insides,10**5)\n",
    "\n",
    "#you don't have the right. O you don't have the right therefore you don't have the right, O you don't have the right\n",
    "n6Blue = []\n",
    "n6Red = []\n",
    "insides = 0\n",
    "insides = simulation(n4Blue,n4Red,10**6)\n",
    "n6Pi=generatePi(insides,10**6)\n",
    "\n",
    "#I genuinely thought we were going to graph all of the charts, but we aren't. I'm too lazy to change this as well.\n",
    "def plotEverything(blues,reds):\n",
    "    zip_blue = zip(*blues)\n",
    "    plt.scatter(*zip_blue, marker='.', color='b', s=0.5)\n",
    "    zip_red = zip(*reds)\n",
    "    plt.scatter(*zip_red, marker='.', color='r', s=0.5)\n",
    "    plt\n",
    "\n",
    "#Formatting our output\n",
    "print(f\"n = 10 ^ 3  pi = {format(n3Pi,'.6f')}   error = {format(errorFormula(n3Pi),'.4f')}%\")\n",
    "print(f\"n = 10 ^ 4  pi = {format(n4Pi,'.6f')}   error = {format(errorFormula(n4Pi),'.4f')}%\")\n",
    "print(f\"n = 10 ^ 5  pi = {format(n5Pi,'.6f')}   error = {format(errorFormula(n5Pi),'.4f')}%\")\n",
    "print(f\"n = 10 ^ 6  pi = {format(n6Pi,'.6f')}   error = {format(errorFormula(n6Pi),'.4f')}%\")\n",
    "plotEverything(n4Blue,n4Red)\n"
   ]
  },
  {
   "cell_type": "code",
   "execution_count": null,
   "metadata": {},
   "outputs": [],
   "source": [
    "\n"
   ]
  }
 ],
 "metadata": {
  "kernelspec": {
   "display_name": "Python 3",
   "language": "python",
   "name": "python3"
  },
  "language_info": {
   "codemirror_mode": {
    "name": "ipython",
    "version": 3
   },
   "file_extension": ".py",
   "mimetype": "text/x-python",
   "name": "python",
   "nbconvert_exporter": "python",
   "pygments_lexer": "ipython3",
   "version": "3.8.3"
  }
 },
 "nbformat": 4,
 "nbformat_minor": 2
}
